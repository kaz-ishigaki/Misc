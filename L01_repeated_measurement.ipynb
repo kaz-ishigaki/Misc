{
 "cells": [
  {
   "cell_type": "markdown",
   "id": "b608db4a-85e2-4cdb-8709-921a5078fb3f",
   "metadata": {},
   "source": [
    "# Should we use fixed effect or random effect to control repeated measurement?\n",
    "- If the repeated measurements are completely nested within the explanatory variable (group, in this example), we **should not** use fixed effect.\n",
    "- If not, we can use fixed effect.\n",
    "- But, usually we use random effect because we are not interested in the differences in inter-individual differences (see examples below)"
   ]
  },
  {
   "cell_type": "code",
   "execution_count": 118,
   "id": "949a2581-3156-42b2-8d57-d0bbb8eca109",
   "metadata": {},
   "outputs": [],
   "source": [
    "#library\n",
    "library(magrittr)\n",
    "library(ggsci)\n",
    "library(ggplot2)\n",
    "library(lme4)\n",
    "library(lmerTest)"
   ]
  },
  {
   "cell_type": "markdown",
   "id": "84a272f4-d301-469b-91aa-1df969c8ff87",
   "metadata": {},
   "source": [
    "## The repeated measurements are completely nested within the explanatory variable (group)"
   ]
  },
  {
   "cell_type": "markdown",
   "id": "e9e2e910-599e-4ed1-b9a7-f1213c4ab514",
   "metadata": {},
   "source": [
    "### Generate data\n",
    "- 100 individuals from each of two groups (G1, G2): nested\n",
    "- 4 measurement/individual\n",
    "- Our expectation: higher expression of gene X in G2 than G1\n",
    "- Covariate: gender (individual specific), batch (individual non-specific)"
   ]
  },
  {
   "cell_type": "code",
   "execution_count": 139,
   "id": "f52c6e02-0eec-4dec-9a89-b22612f30534",
   "metadata": {},
   "outputs": [],
   "source": [
    "df <- data.frame()\n",
    "\n",
    "#group 1: mean=5\n",
    "for(i in 1:50){\n",
    "    ID=paste0(\"Ind\",i)\n",
    "    delta=rnorm(1) #individual specific error term\n",
    "    Exp=rnorm(n=4, mean = 5 + delta )\n",
    "    Gender=sample(x=c(1,0),size=1, replace = T,prob=c(0.5,0.5))\n",
    "    Batch=sample(x=c(1,0),size=4, replace = T,prob=c(0.5,0.5))\n",
    "    dump <- data.frame(ID,Exp,Gender,Batch,Group=\"G1\")\n",
    "    df <- rbind(df,dump)\n",
    "}\n",
    "\n",
    "#group 2: mean=7\n",
    "for(i in 51:100){\n",
    "    ID=paste0(\"Ind\",i)\n",
    "    delta=rnorm(1) #individual specific error term\n",
    "    Exp=rnorm(n=4, mean = 7 + delta )\n",
    "    Gender=sample(x=c(1,0),size=1, replace = T,prob=c(0.5,0.5))\n",
    "    Batch=sample(x=c(1,0),size=4, replace = T,prob=c(0.5,0.5))\n",
    "    dump <- data.frame(ID,Exp,Gender,Batch,Group=\"G2\")\n",
    "    df <- rbind(df,dump)\n",
    "}"
   ]
  },
  {
   "cell_type": "code",
   "execution_count": 140,
   "id": "0685ffe6-7a9b-4c94-a9d7-45c5653e81a8",
   "metadata": {},
   "outputs": [
    {
     "data": {
      "text/html": [
       "<table>\n",
       "<thead><tr><th scope=col>ID</th><th scope=col>Exp</th><th scope=col>Gender</th><th scope=col>Batch</th><th scope=col>Group</th></tr></thead>\n",
       "<tbody>\n",
       "\t<tr><td>Ind1    </td><td>5.423718</td><td>0       </td><td>0       </td><td>G1      </td></tr>\n",
       "\t<tr><td>Ind1    </td><td>5.091706</td><td>0       </td><td>0       </td><td>G1      </td></tr>\n",
       "\t<tr><td>Ind1    </td><td>3.617798</td><td>0       </td><td>0       </td><td>G1      </td></tr>\n",
       "\t<tr><td>Ind1    </td><td>4.536776</td><td>0       </td><td>0       </td><td>G1      </td></tr>\n",
       "\t<tr><td>Ind2    </td><td>4.499204</td><td>1       </td><td>1       </td><td>G1      </td></tr>\n",
       "\t<tr><td>Ind2    </td><td>1.850973</td><td>1       </td><td>0       </td><td>G1      </td></tr>\n",
       "\t<tr><td>Ind2    </td><td>2.254604</td><td>1       </td><td>0       </td><td>G1      </td></tr>\n",
       "\t<tr><td>Ind2    </td><td>3.294153</td><td>1       </td><td>0       </td><td>G1      </td></tr>\n",
       "\t<tr><td>Ind3    </td><td>4.336564</td><td>1       </td><td>1       </td><td>G1      </td></tr>\n",
       "\t<tr><td>Ind3    </td><td>5.790749</td><td>1       </td><td>1       </td><td>G1      </td></tr>\n",
       "</tbody>\n",
       "</table>\n"
      ],
      "text/latex": [
       "\\begin{tabular}{r|lllll}\n",
       " ID & Exp & Gender & Batch & Group\\\\\n",
       "\\hline\n",
       "\t Ind1     & 5.423718 & 0        & 0        & G1      \\\\\n",
       "\t Ind1     & 5.091706 & 0        & 0        & G1      \\\\\n",
       "\t Ind1     & 3.617798 & 0        & 0        & G1      \\\\\n",
       "\t Ind1     & 4.536776 & 0        & 0        & G1      \\\\\n",
       "\t Ind2     & 4.499204 & 1        & 1        & G1      \\\\\n",
       "\t Ind2     & 1.850973 & 1        & 0        & G1      \\\\\n",
       "\t Ind2     & 2.254604 & 1        & 0        & G1      \\\\\n",
       "\t Ind2     & 3.294153 & 1        & 0        & G1      \\\\\n",
       "\t Ind3     & 4.336564 & 1        & 1        & G1      \\\\\n",
       "\t Ind3     & 5.790749 & 1        & 1        & G1      \\\\\n",
       "\\end{tabular}\n"
      ],
      "text/markdown": [
       "\n",
       "ID | Exp | Gender | Batch | Group | \n",
       "|---|---|---|---|---|---|---|---|---|---|\n",
       "| Ind1     | 5.423718 | 0        | 0        | G1       | \n",
       "| Ind1     | 5.091706 | 0        | 0        | G1       | \n",
       "| Ind1     | 3.617798 | 0        | 0        | G1       | \n",
       "| Ind1     | 4.536776 | 0        | 0        | G1       | \n",
       "| Ind2     | 4.499204 | 1        | 1        | G1       | \n",
       "| Ind2     | 1.850973 | 1        | 0        | G1       | \n",
       "| Ind2     | 2.254604 | 1        | 0        | G1       | \n",
       "| Ind2     | 3.294153 | 1        | 0        | G1       | \n",
       "| Ind3     | 4.336564 | 1        | 1        | G1       | \n",
       "| Ind3     | 5.790749 | 1        | 1        | G1       | \n",
       "\n",
       "\n"
      ],
      "text/plain": [
       "   ID   Exp      Gender Batch Group\n",
       "1  Ind1 5.423718 0      0     G1   \n",
       "2  Ind1 5.091706 0      0     G1   \n",
       "3  Ind1 3.617798 0      0     G1   \n",
       "4  Ind1 4.536776 0      0     G1   \n",
       "5  Ind2 4.499204 1      1     G1   \n",
       "6  Ind2 1.850973 1      0     G1   \n",
       "7  Ind2 2.254604 1      0     G1   \n",
       "8  Ind2 3.294153 1      0     G1   \n",
       "9  Ind3 4.336564 1      1     G1   \n",
       "10 Ind3 5.790749 1      1     G1   "
      ]
     },
     "metadata": {},
     "output_type": "display_data"
    }
   ],
   "source": [
    "head(df,n=10)"
   ]
  },
  {
   "cell_type": "code",
   "execution_count": 141,
   "id": "f242f45c-9fa5-4a2e-bda5-038bfd1d9da0",
   "metadata": {},
   "outputs": [
    {
     "data": {},
     "metadata": {},
     "output_type": "display_data"
    },
    {
     "data": {
      "image/png": "[encoded data removed]",
      "text/plain": [
       "plot without title"
      ]
     },
     "metadata": {},
     "output_type": "display_data",
     "source": "R display func"
    }
   ],
   "source": [
    "#visualize\n",
    "options(repr.plot.width=4, repr.plot.height=4)\n",
    "df %>% ggplot(aes(x=Group,y=Exp,fill=Group)) +\n",
    "    geom_boxplot() +\n",
    "    theme_bw()"
   ]
  },
  {
   "cell_type": "markdown",
   "id": "242bc46f-e0b2-4f10-8d27-a7be2b64f0b3",
   "metadata": {},
   "source": [
    "### LM with a fixed effect individual term"
   ]
  },
  {
   "cell_type": "code",
   "execution_count": 144,
   "id": "258b6524-a59f-4818-878f-23bd44e0fa59",
   "metadata": {},
   "outputs": [
    {
     "data": {
      "text/html": [
       "<table>\n",
       "<thead><tr><th></th><th scope=col>Estimate</th><th scope=col>Std. Error</th><th scope=col>t value</th><th scope=col>Pr(&gt;|t|)</th></tr></thead>\n",
       "<tbody>\n",
       "\t<tr><th scope=row>(Intercept)</th><td> 4.6674995  </td><td>0.4677532   </td><td> 9.9785513  </td><td>1.947744e-20</td></tr>\n",
       "\t<tr><th scope=row>GroupG2</th><td> 0.8033577  </td><td>0.6615029   </td><td> 1.2144431  </td><td>2.255336e-01</td></tr>\n",
       "\t<tr><th scope=row>IDInd2</th><td>-1.6927658  </td><td>0.6615029   </td><td>-2.5589694  </td><td>1.098890e-02</td></tr>\n",
       "\t<tr><th scope=row>IDInd3</th><td> 0.9894904  </td><td>0.6615029   </td><td> 1.4958216  </td><td>1.357514e-01</td></tr>\n",
       "\t<tr><th scope=row>IDInd4</th><td>-1.9172654  </td><td>0.6615029   </td><td>-2.8983475  </td><td>4.027905e-03</td></tr>\n",
       "\t<tr><th scope=row>IDInd5</th><td>-0.6247985  </td><td>0.6615029   </td><td>-0.9445135  </td><td>3.456674e-01</td></tr>\n",
       "</tbody>\n",
       "</table>\n"
      ],
      "text/latex": [
       "\\begin{tabular}{r|llll}\n",
       "  & Estimate & Std. Error & t value & Pr(>\\textbar{}t\\textbar{})\\\\\n",
       "\\hline\n",
       "\t(Intercept) &  4.6674995   & 0.4677532    &  9.9785513   & 1.947744e-20\\\\\n",
       "\tGroupG2 &  0.8033577   & 0.6615029    &  1.2144431   & 2.255336e-01\\\\\n",
       "\tIDInd2 & -1.6927658   & 0.6615029    & -2.5589694   & 1.098890e-02\\\\\n",
       "\tIDInd3 &  0.9894904   & 0.6615029    &  1.4958216   & 1.357514e-01\\\\\n",
       "\tIDInd4 & -1.9172654   & 0.6615029    & -2.8983475   & 4.027905e-03\\\\\n",
       "\tIDInd5 & -0.6247985   & 0.6615029    & -0.9445135   & 3.456674e-01\\\\\n",
       "\\end{tabular}\n"
      ],
      "text/markdown": [
       "\n",
       "| <!--/--> | Estimate | Std. Error | t value | Pr(>|t|) | \n",
       "|---|---|---|---|---|---|\n",
       "| (Intercept) |  4.6674995   | 0.4677532    |  9.9785513   | 1.947744e-20 | \n",
       "| GroupG2 |  0.8033577   | 0.6615029    |  1.2144431   | 2.255336e-01 | \n",
       "| IDInd2 | -1.6927658   | 0.6615029    | -2.5589694   | 1.098890e-02 | \n",
       "| IDInd3 |  0.9894904   | 0.6615029    |  1.4958216   | 1.357514e-01 | \n",
       "| IDInd4 | -1.9172654   | 0.6615029    | -2.8983475   | 4.027905e-03 | \n",
       "| IDInd5 | -0.6247985   | 0.6615029    | -0.9445135   | 3.456674e-01 | \n",
       "\n",
       "\n"
      ],
      "text/plain": [
       "            Estimate   Std. Error t value    Pr(>|t|)    \n",
       "(Intercept)  4.6674995 0.4677532   9.9785513 1.947744e-20\n",
       "GroupG2      0.8033577 0.6615029   1.2144431 2.255336e-01\n",
       "IDInd2      -1.6927658 0.6615029  -2.5589694 1.098890e-02\n",
       "IDInd3       0.9894904 0.6615029   1.4958216 1.357514e-01\n",
       "IDInd4      -1.9172654 0.6615029  -2.8983475 4.027905e-03\n",
       "IDInd5      -0.6247985 0.6615029  -0.9445135 3.456674e-01"
      ]
     },
     "metadata": {},
     "output_type": "display_data"
    }
   ],
   "source": [
    "mod1 <- lm(Exp ~ Group + ID,data=df)\n",
    "summary(mod1)$coefficients %>% head()\n",
    "#the significance of Group term was canceled completely."
   ]
  },
  {
   "cell_type": "code",
   "execution_count": 152,
   "id": "021f1167-ddbc-46d2-8b9a-0372d1bc83e1",
   "metadata": {},
   "outputs": [
    {
     "data": {
      "text/plain": [
       "   Min. 1st Qu.  Median    Mean 3rd Qu.    Max. \n",
       "-2.4803 -0.4622  0.2180  0.2821  1.0157  2.6822 "
      ]
     },
     "metadata": {},
     "output_type": "display_data"
    },
    {
     "data": {
      "text/plain": [
       "   Min. 1st Qu.  Median    Mean 3rd Qu.    Max. \n",
       "-0.6457  0.4803  1.2402  1.3003  1.9486  4.6848 "
      ]
     },
     "metadata": {},
     "output_type": "display_data"
    }
   ],
   "source": [
    "#beta for individual in G1 = individual intercept\n",
    "summary(mod1)$coefficients[paste0(\"IDInd\",2:50),\"Estimate\"] %>% summary()\n",
    "\n",
    "#beta for individual in G2 = individual intercept\n",
    "summary(mod1)$coefficients[paste0(\"IDInd\",51:99),\"Estimate\"] %>% summary()\n",
    "\n",
    "#so, the Group effect was diluted into individual intercepts"
   ]
  },
  {
   "cell_type": "markdown",
   "id": "9d23723a-9b42-49af-9523-47f0b52a6557",
   "metadata": {},
   "source": [
    "### LMM with a random effect individual term"
   ]
  },
  {
   "cell_type": "code",
   "execution_count": 143,
   "id": "e1e6bb3d-5ac8-4b74-ba32-5d4d811b2ed7",
   "metadata": {},
   "outputs": [
    {
     "data": {
      "text/html": [
       "<table>\n",
       "<thead><tr><th></th><th scope=col>Estimate</th><th scope=col>Std. Error</th><th scope=col>df</th><th scope=col>t value</th><th scope=col>Pr(&gt;|t|)</th></tr></thead>\n",
       "<tbody>\n",
       "\t<tr><th scope=row>(Intercept)</th><td>4.943993    </td><td>0.1610365   </td><td>98          </td><td>30.70107    </td><td>4.470149e-52</td></tr>\n",
       "\t<tr><th scope=row>GroupG2</th><td>1.801170    </td><td>0.2277400   </td><td>98          </td><td> 7.90889    </td><td>3.966874e-12</td></tr>\n",
       "</tbody>\n",
       "</table>\n"
      ],
      "text/latex": [
       "\\begin{tabular}{r|lllll}\n",
       "  & Estimate & Std. Error & df & t value & Pr(>\\textbar{}t\\textbar{})\\\\\n",
       "\\hline\n",
       "\t(Intercept) & 4.943993     & 0.1610365    & 98           & 30.70107     & 4.470149e-52\\\\\n",
       "\tGroupG2 & 1.801170     & 0.2277400    & 98           &  7.90889     & 3.966874e-12\\\\\n",
       "\\end{tabular}\n"
      ],
      "text/markdown": [
       "\n",
       "| <!--/--> | Estimate | Std. Error | df | t value | Pr(>|t|) | \n",
       "|---|---|\n",
       "| (Intercept) | 4.943993     | 0.1610365    | 98           | 30.70107     | 4.470149e-52 | \n",
       "| GroupG2 | 1.801170     | 0.2277400    | 98           |  7.90889     | 3.966874e-12 | \n",
       "\n",
       "\n"
      ],
      "text/plain": [
       "            Estimate Std. Error df t value  Pr(>|t|)    \n",
       "(Intercept) 4.943993 0.1610365  98 30.70107 4.470149e-52\n",
       "GroupG2     1.801170 0.2277400  98  7.90889 3.966874e-12"
      ]
     },
     "metadata": {},
     "output_type": "display_data"
    }
   ],
   "source": [
    "mod1 <- lmer(Exp ~ Group  + (1|ID),data=df)\n",
    "summary(mod1)$coefficients\n",
    "#the significance of Group term was maintained."
   ]
  },
  {
   "cell_type": "code",
   "execution_count": null,
   "id": "9d92281e-0408-4608-a814-987430b1eb52",
   "metadata": {},
   "outputs": [],
   "source": []
  },
  {
   "cell_type": "markdown",
   "id": "53f7b83b-a996-4efb-ae8f-1dabe56a1a21",
   "metadata": {},
   "source": [
    "## The repeated measurements are not nested within the explanatory variable (group)"
   ]
  },
  {
   "cell_type": "markdown",
   "id": "1df98011-e485-46a1-98a7-5e43990eb081",
   "metadata": {},
   "source": [
    "### Generate data\n",
    "- 100 individuals \n",
    "- 4 measurement/individual (2 from G1, 2 from G2)\n",
    "- Our expectation: higher expression of gene X in G2 than G1\n",
    "- Covariate: gender (individual specific), batch (individual non-specific)"
   ]
  },
  {
   "cell_type": "code",
   "execution_count": 129,
   "id": "44a384e4-3b6b-4eef-ac06-bcee98d6ad81",
   "metadata": {},
   "outputs": [],
   "source": [
    "df <- data.frame()\n",
    "\n",
    "for(i in 1:100){\n",
    "    ID=paste0(\"Ind\",i)\n",
    "    delta=rnorm(1) #individual specific error term\n",
    "    Exp1=rnorm(n=2, mean = 5 + delta ) #G1\n",
    "    Exp2=rnorm(n=2, mean = 7 + delta ) #G2\n",
    "    Exp=c(Exp1,Exp2)\n",
    "    Gender=sample(x=c(1,0),size=1, replace = T,prob=c(0.5,0.5))\n",
    "    Batch=sample(x=c(1,0),size=4, replace = T,prob=c(0.5,0.5))\n",
    "    dump <- data.frame(ID,Exp,Gender,Batch,Group=c(\"G1\",\"G1\",\"G2\",\"G2\"))\n",
    "    df <- rbind(df,dump)\n",
    "}\n"
   ]
  },
  {
   "cell_type": "code",
   "execution_count": 130,
   "id": "7b1bbda7-21b1-4845-ac6c-44a58d19d9f7",
   "metadata": {},
   "outputs": [
    {
     "data": {
      "text/html": [
       "<table>\n",
       "<thead><tr><th scope=col>ID</th><th scope=col>Exp</th><th scope=col>Gender</th><th scope=col>Batch</th><th scope=col>Group</th></tr></thead>\n",
       "<tbody>\n",
       "\t<tr><td>Ind1     </td><td> 6.588780</td><td>1        </td><td>0        </td><td>G1       </td></tr>\n",
       "\t<tr><td>Ind1     </td><td> 7.080130</td><td>1        </td><td>0        </td><td>G1       </td></tr>\n",
       "\t<tr><td>Ind1     </td><td>10.021329</td><td>1        </td><td>1        </td><td>G2       </td></tr>\n",
       "\t<tr><td>Ind1     </td><td> 8.067453</td><td>1        </td><td>1        </td><td>G2       </td></tr>\n",
       "\t<tr><td>Ind2     </td><td> 5.015754</td><td>1        </td><td>1        </td><td>G1       </td></tr>\n",
       "\t<tr><td>Ind2     </td><td> 3.659383</td><td>1        </td><td>1        </td><td>G1       </td></tr>\n",
       "\t<tr><td>Ind2     </td><td> 7.195401</td><td>1        </td><td>1        </td><td>G2       </td></tr>\n",
       "\t<tr><td>Ind2     </td><td> 7.290204</td><td>1        </td><td>0        </td><td>G2       </td></tr>\n",
       "\t<tr><td>Ind3     </td><td> 3.739283</td><td>0        </td><td>1        </td><td>G1       </td></tr>\n",
       "\t<tr><td>Ind3     </td><td> 5.667174</td><td>0        </td><td>1        </td><td>G1       </td></tr>\n",
       "</tbody>\n",
       "</table>\n"
      ],
      "text/latex": [
       "\\begin{tabular}{r|lllll}\n",
       " ID & Exp & Gender & Batch & Group\\\\\n",
       "\\hline\n",
       "\t Ind1      &  6.588780 & 1         & 0         & G1       \\\\\n",
       "\t Ind1      &  7.080130 & 1         & 0         & G1       \\\\\n",
       "\t Ind1      & 10.021329 & 1         & 1         & G2       \\\\\n",
       "\t Ind1      &  8.067453 & 1         & 1         & G2       \\\\\n",
       "\t Ind2      &  5.015754 & 1         & 1         & G1       \\\\\n",
       "\t Ind2      &  3.659383 & 1         & 1         & G1       \\\\\n",
       "\t Ind2      &  7.195401 & 1         & 1         & G2       \\\\\n",
       "\t Ind2      &  7.290204 & 1         & 0         & G2       \\\\\n",
       "\t Ind3      &  3.739283 & 0         & 1         & G1       \\\\\n",
       "\t Ind3      &  5.667174 & 0         & 1         & G1       \\\\\n",
       "\\end{tabular}\n"
      ],
      "text/markdown": [
       "\n",
       "ID | Exp | Gender | Batch | Group | \n",
       "|---|---|---|---|---|---|---|---|---|---|\n",
       "| Ind1      |  6.588780 | 1         | 0         | G1        | \n",
       "| Ind1      |  7.080130 | 1         | 0         | G1        | \n",
       "| Ind1      | 10.021329 | 1         | 1         | G2        | \n",
       "| Ind1      |  8.067453 | 1         | 1         | G2        | \n",
       "| Ind2      |  5.015754 | 1         | 1         | G1        | \n",
       "| Ind2      |  3.659383 | 1         | 1         | G1        | \n",
       "| Ind2      |  7.195401 | 1         | 1         | G2        | \n",
       "| Ind2      |  7.290204 | 1         | 0         | G2        | \n",
       "| Ind3      |  3.739283 | 0         | 1         | G1        | \n",
       "| Ind3      |  5.667174 | 0         | 1         | G1        | \n",
       "\n",
       "\n"
      ],
      "text/plain": [
       "   ID   Exp       Gender Batch Group\n",
       "1  Ind1  6.588780 1      0     G1   \n",
       "2  Ind1  7.080130 1      0     G1   \n",
       "3  Ind1 10.021329 1      1     G2   \n",
       "4  Ind1  8.067453 1      1     G2   \n",
       "5  Ind2  5.015754 1      1     G1   \n",
       "6  Ind2  3.659383 1      1     G1   \n",
       "7  Ind2  7.195401 1      1     G2   \n",
       "8  Ind2  7.290204 1      0     G2   \n",
       "9  Ind3  3.739283 0      1     G1   \n",
       "10 Ind3  5.667174 0      1     G1   "
      ]
     },
     "metadata": {},
     "output_type": "display_data"
    }
   ],
   "source": [
    "head(df,n=10)"
   ]
  },
  {
   "cell_type": "code",
   "execution_count": 131,
   "id": "6fa9d5b5-da35-4a04-8683-af09fa2312b9",
   "metadata": {},
   "outputs": [
    {
     "data": {},
     "metadata": {},
     "output_type": "display_data"
    },
    {
     "data": {
      "image/png": "[encoded data removed]",
      "text/plain": [
       "plot without title"
      ]
     },
     "metadata": {},
     "output_type": "display_data",
     "source": "R display func"
    }
   ],
   "source": [
    "#visualize\n",
    "options(repr.plot.width=4, repr.plot.height=4)\n",
    "df %>% ggplot(aes(x=Group,y=Exp,fill=Group)) +\n",
    "    geom_boxplot() +\n",
    "    theme_bw()"
   ]
  },
  {
   "cell_type": "markdown",
   "id": "d38d9945-028f-4ecf-8619-33b2a3781448",
   "metadata": {},
   "source": [
    "### LM with a fixed effect individual term"
   ]
  },
  {
   "cell_type": "code",
   "execution_count": 132,
   "id": "4082dc37-0330-4689-8487-c22d0ae38aab",
   "metadata": {},
   "outputs": [
    {
     "data": {
      "text/html": [
       "<table>\n",
       "<thead><tr><th></th><th scope=col>Estimate</th><th scope=col>Std. Error</th><th scope=col>t value</th><th scope=col>Pr(&gt;|t|)</th></tr></thead>\n",
       "<tbody>\n",
       "\t<tr><th scope=row>(Intercept)</th><td> 6.944848   </td><td>0.45532894  </td><td>15.252375   </td><td>2.985366e-39</td></tr>\n",
       "\t<tr><th scope=row>GroupG2</th><td> 1.989151   </td><td>0.09061385  </td><td>21.951957   </td><td>2.744501e-64</td></tr>\n",
       "\t<tr><th scope=row>IDInd2</th><td>-2.149238   </td><td>0.64073664  </td><td>-3.354323   </td><td>8.981611e-04</td></tr>\n",
       "\t<tr><th scope=row>IDInd3</th><td>-2.602455   </td><td>0.64073664  </td><td>-4.061661   </td><td>6.230222e-05</td></tr>\n",
       "\t<tr><th scope=row>IDInd4</th><td>-3.152104   </td><td>0.64073664  </td><td>-4.919501   </td><td>1.434954e-06</td></tr>\n",
       "\t<tr><th scope=row>IDInd5</th><td>-3.048254   </td><td>0.64073664  </td><td>-4.757421   </td><td>3.055917e-06</td></tr>\n",
       "</tbody>\n",
       "</table>\n"
      ],
      "text/latex": [
       "\\begin{tabular}{r|llll}\n",
       "  & Estimate & Std. Error & t value & Pr(>\\textbar{}t\\textbar{})\\\\\n",
       "\\hline\n",
       "\t(Intercept) &  6.944848    & 0.45532894   & 15.252375    & 2.985366e-39\\\\\n",
       "\tGroupG2 &  1.989151    & 0.09061385   & 21.951957    & 2.744501e-64\\\\\n",
       "\tIDInd2 & -2.149238    & 0.64073664   & -3.354323    & 8.981611e-04\\\\\n",
       "\tIDInd3 & -2.602455    & 0.64073664   & -4.061661    & 6.230222e-05\\\\\n",
       "\tIDInd4 & -3.152104    & 0.64073664   & -4.919501    & 1.434954e-06\\\\\n",
       "\tIDInd5 & -3.048254    & 0.64073664   & -4.757421    & 3.055917e-06\\\\\n",
       "\\end{tabular}\n"
      ],
      "text/markdown": [
       "\n",
       "| <!--/--> | Estimate | Std. Error | t value | Pr(>|t|) | \n",
       "|---|---|---|---|---|---|\n",
       "| (Intercept) |  6.944848    | 0.45532894   | 15.252375    | 2.985366e-39 | \n",
       "| GroupG2 |  1.989151    | 0.09061385   | 21.951957    | 2.744501e-64 | \n",
       "| IDInd2 | -2.149238    | 0.64073664   | -3.354323    | 8.981611e-04 | \n",
       "| IDInd3 | -2.602455    | 0.64073664   | -4.061661    | 6.230222e-05 | \n",
       "| IDInd4 | -3.152104    | 0.64073664   | -4.919501    | 1.434954e-06 | \n",
       "| IDInd5 | -3.048254    | 0.64073664   | -4.757421    | 3.055917e-06 | \n",
       "\n",
       "\n"
      ],
      "text/plain": [
       "            Estimate  Std. Error t value   Pr(>|t|)    \n",
       "(Intercept)  6.944848 0.45532894 15.252375 2.985366e-39\n",
       "GroupG2      1.989151 0.09061385 21.951957 2.744501e-64\n",
       "IDInd2      -2.149238 0.64073664 -3.354323 8.981611e-04\n",
       "IDInd3      -2.602455 0.64073664 -4.061661 6.230222e-05\n",
       "IDInd4      -3.152104 0.64073664 -4.919501 1.434954e-06\n",
       "IDInd5      -3.048254 0.64073664 -4.757421 3.055917e-06"
      ]
     },
     "metadata": {},
     "output_type": "display_data"
    }
   ],
   "source": [
    "mod1 <- lm(Exp ~ Group  + ID,data=df)\n",
    "summary(mod1)$coefficients %>% head()\n",
    "#the significance of Group term was mainteined."
   ]
  },
  {
   "cell_type": "markdown",
   "id": "83001a54-7d24-4b2e-8655-2109b67ca8e5",
   "metadata": {},
   "source": [
    "### LMM with a random effect individual term"
   ]
  },
  {
   "cell_type": "code",
   "execution_count": 133,
   "id": "68b790d8-b125-46a3-91d6-b0736294c6ca",
   "metadata": {},
   "outputs": [
    {
     "data": {
      "text/html": [
       "<table>\n",
       "<thead><tr><th></th><th scope=col>Estimate</th><th scope=col>Std. Error</th><th scope=col>df</th><th scope=col>t value</th><th scope=col>Pr(&gt;|t|)</th></tr></thead>\n",
       "<tbody>\n",
       "\t<tr><th scope=row>(Intercept)</th><td>4.928637    </td><td>0.11957849  </td><td>133.7262    </td><td>41.21675    </td><td>6.945236e-78</td></tr>\n",
       "\t<tr><th scope=row>GroupG2</th><td>1.989151    </td><td>0.09061385  </td><td>299.0000    </td><td>21.95196    </td><td>2.744502e-64</td></tr>\n",
       "</tbody>\n",
       "</table>\n"
      ],
      "text/latex": [
       "\\begin{tabular}{r|lllll}\n",
       "  & Estimate & Std. Error & df & t value & Pr(>\\textbar{}t\\textbar{})\\\\\n",
       "\\hline\n",
       "\t(Intercept) & 4.928637     & 0.11957849   & 133.7262     & 41.21675     & 6.945236e-78\\\\\n",
       "\tGroupG2 & 1.989151     & 0.09061385   & 299.0000     & 21.95196     & 2.744502e-64\\\\\n",
       "\\end{tabular}\n"
      ],
      "text/markdown": [
       "\n",
       "| <!--/--> | Estimate | Std. Error | df | t value | Pr(>|t|) | \n",
       "|---|---|\n",
       "| (Intercept) | 4.928637     | 0.11957849   | 133.7262     | 41.21675     | 6.945236e-78 | \n",
       "| GroupG2 | 1.989151     | 0.09061385   | 299.0000     | 21.95196     | 2.744502e-64 | \n",
       "\n",
       "\n"
      ],
      "text/plain": [
       "            Estimate Std. Error df       t value  Pr(>|t|)    \n",
       "(Intercept) 4.928637 0.11957849 133.7262 41.21675 6.945236e-78\n",
       "GroupG2     1.989151 0.09061385 299.0000 21.95196 2.744502e-64"
      ]
     },
     "metadata": {},
     "output_type": "display_data"
    }
   ],
   "source": [
    "mod1 <- lmer(Exp ~ Group  + (1|ID),data=df)\n",
    "summary(mod1)$coefficients\n",
    "#the significance of Group term was mainteined."
   ]
  },
  {
   "cell_type": "code",
   "execution_count": null,
   "id": "63e9205f-d166-4343-8d9d-0ac5adbf72d8",
   "metadata": {},
   "outputs": [],
   "source": []
  },
  {
   "cell_type": "code",
   "execution_count": null,
   "id": "c846dee1-7825-4d89-a602-9bc28af1da0d",
   "metadata": {},
   "outputs": [],
   "source": []
  }
 ],
 "metadata": {
  "kernelspec": {
   "display_name": "R 3.4.3",
   "language": "R",
   "name": "ir343"
  },
  "language_info": {
   "codemirror_mode": "r",
   "file_extension": ".r",
   "mimetype": "text/x-r-source",
   "name": "R",
   "pygments_lexer": "r",
   "version": "3.4.3"
  }
 },
 "nbformat": 4,
 "nbformat_minor": 5
}
