{
 "cells": [
  {
   "cell_type": "markdown",
   "id": "b608db4a-85e2-4cdb-8709-921a5078fb3f",
   "metadata": {},
   "source": [
    "# When we have repeated measurement, can we use fixed effect, or should we use random effect models?"
   ]
  },
  {
   "cell_type": "code",
   "execution_count": 43,
   "id": "949a2581-3156-42b2-8d57-d0bbb8eca109",
   "metadata": {},
   "outputs": [],
   "source": [
    "#library\n",
    "library(magrittr)\n",
    "library(ggsci)\n",
    "library(ggplot2)\n",
    "library(lme4)\n",
    "library(lmerTest)"
   ]
  },
  {
   "cell_type": "markdown",
   "id": "e9e2e910-599e-4ed1-b9a7-f1213c4ab514",
   "metadata": {},
   "source": [
    "## Generate data\n",
    "- 10 individuals in each of two groups (G1, G2)\n",
    "- 5 measurement/individual\n",
    "- Our expectation: higher expression of gene X in G2 than G1\n",
    "- Covariate: gender (individual specific), batch (individual non-specific)"
   ]
  },
  {
   "cell_type": "code",
   "execution_count": 24,
   "id": "f52c6e02-0eec-4dec-9a89-b22612f30534",
   "metadata": {},
   "outputs": [],
   "source": [
    "df <- data.frame()\n",
    "\n",
    "#group 1: mean=5\n",
    "for(i in 1:10){\n",
    "    ID=paste0(\"Ind\",i)\n",
    "    Exp=rnorm(n=5,mean = 5)\n",
    "    Gender=sample(x=c(1,0),size=1, replace = T,prob=c(0.5,0.5))\n",
    "    Batch=sample(x=c(1,0),size=5, replace = T,prob=c(0.5,0.5))\n",
    "    dump <- data.frame(ID,Exp,Gender,Batch,Group=\"G1\")\n",
    "    df <- rbind(df,dump)\n",
    "}\n",
    "\n",
    "#group 2: mean=6\n",
    "for(i in 11:20){\n",
    "    ID=paste0(\"Ind\",i)\n",
    "    Exp=rnorm(n=5,mean = 6)\n",
    "    Gender=sample(x=c(1,0),size=1, replace = T,prob=c(0.5,0.5))\n",
    "    Batch=sample(x=c(1,0),size=5, replace = T,prob=c(0.5,0.5))\n",
    "    dump <- data.frame(ID,Exp,Gender,Batch,Group=\"G2\")\n",
    "    df <- rbind(df,dump)\n",
    "}"
   ]
  },
  {
   "cell_type": "code",
   "execution_count": 25,
   "id": "0685ffe6-7a9b-4c94-a9d7-45c5653e81a8",
   "metadata": {},
   "outputs": [
    {
     "data": {
      "text/html": [
       "<table>\n",
       "<thead><tr><th scope=col>ID</th><th scope=col>Exp</th><th scope=col>Gender</th><th scope=col>Batch</th><th scope=col>Group</th></tr></thead>\n",
       "<tbody>\n",
       "\t<tr><td>Ind1    </td><td>5.654333</td><td>1       </td><td>1       </td><td>G1      </td></tr>\n",
       "\t<tr><td>Ind1    </td><td>5.153864</td><td>1       </td><td>1       </td><td>G1      </td></tr>\n",
       "\t<tr><td>Ind1    </td><td>5.536809</td><td>1       </td><td>0       </td><td>G1      </td></tr>\n",
       "\t<tr><td>Ind1    </td><td>6.342920</td><td>1       </td><td>1       </td><td>G1      </td></tr>\n",
       "\t<tr><td>Ind1    </td><td>7.395464</td><td>1       </td><td>0       </td><td>G1      </td></tr>\n",
       "\t<tr><td>Ind2    </td><td>6.028979</td><td>0       </td><td>0       </td><td>G1      </td></tr>\n",
       "\t<tr><td>Ind2    </td><td>6.014417</td><td>0       </td><td>0       </td><td>G1      </td></tr>\n",
       "\t<tr><td>Ind2    </td><td>3.876124</td><td>0       </td><td>0       </td><td>G1      </td></tr>\n",
       "\t<tr><td>Ind2    </td><td>3.594028</td><td>0       </td><td>0       </td><td>G1      </td></tr>\n",
       "\t<tr><td>Ind2    </td><td>4.198419</td><td>0       </td><td>0       </td><td>G1      </td></tr>\n",
       "\t<tr><td>Ind3    </td><td>4.381486</td><td>1       </td><td>0       </td><td>G1      </td></tr>\n",
       "\t<tr><td>Ind3    </td><td>5.047026</td><td>1       </td><td>0       </td><td>G1      </td></tr>\n",
       "\t<tr><td>Ind3    </td><td>5.431503</td><td>1       </td><td>0       </td><td>G1      </td></tr>\n",
       "\t<tr><td>Ind3    </td><td>5.567953</td><td>1       </td><td>0       </td><td>G1      </td></tr>\n",
       "\t<tr><td>Ind3    </td><td>4.381308</td><td>1       </td><td>0       </td><td>G1      </td></tr>\n",
       "\t<tr><td>Ind4    </td><td>5.917587</td><td>1       </td><td>1       </td><td>G1      </td></tr>\n",
       "\t<tr><td>Ind4    </td><td>6.213064</td><td>1       </td><td>0       </td><td>G1      </td></tr>\n",
       "\t<tr><td>Ind4    </td><td>4.232553</td><td>1       </td><td>0       </td><td>G1      </td></tr>\n",
       "\t<tr><td>Ind4    </td><td>5.829269</td><td>1       </td><td>1       </td><td>G1      </td></tr>\n",
       "\t<tr><td>Ind4    </td><td>4.633209</td><td>1       </td><td>1       </td><td>G1      </td></tr>\n",
       "</tbody>\n",
       "</table>\n"
      ],
      "text/latex": [
       "\\begin{tabular}{r|lllll}\n",
       " ID & Exp & Gender & Batch & Group\\\\\n",
       "\\hline\n",
       "\t Ind1     & 5.654333 & 1        & 1        & G1      \\\\\n",
       "\t Ind1     & 5.153864 & 1        & 1        & G1      \\\\\n",
       "\t Ind1     & 5.536809 & 1        & 0        & G1      \\\\\n",
       "\t Ind1     & 6.342920 & 1        & 1        & G1      \\\\\n",
       "\t Ind1     & 7.395464 & 1        & 0        & G1      \\\\\n",
       "\t Ind2     & 6.028979 & 0        & 0        & G1      \\\\\n",
       "\t Ind2     & 6.014417 & 0        & 0        & G1      \\\\\n",
       "\t Ind2     & 3.876124 & 0        & 0        & G1      \\\\\n",
       "\t Ind2     & 3.594028 & 0        & 0        & G1      \\\\\n",
       "\t Ind2     & 4.198419 & 0        & 0        & G1      \\\\\n",
       "\t Ind3     & 4.381486 & 1        & 0        & G1      \\\\\n",
       "\t Ind3     & 5.047026 & 1        & 0        & G1      \\\\\n",
       "\t Ind3     & 5.431503 & 1        & 0        & G1      \\\\\n",
       "\t Ind3     & 5.567953 & 1        & 0        & G1      \\\\\n",
       "\t Ind3     & 4.381308 & 1        & 0        & G1      \\\\\n",
       "\t Ind4     & 5.917587 & 1        & 1        & G1      \\\\\n",
       "\t Ind4     & 6.213064 & 1        & 0        & G1      \\\\\n",
       "\t Ind4     & 4.232553 & 1        & 0        & G1      \\\\\n",
       "\t Ind4     & 5.829269 & 1        & 1        & G1      \\\\\n",
       "\t Ind4     & 4.633209 & 1        & 1        & G1      \\\\\n",
       "\\end{tabular}\n"
      ],
      "text/markdown": [
       "\n",
       "ID | Exp | Gender | Batch | Group | \n",
       "|---|---|---|---|---|---|---|---|---|---|---|---|---|---|---|---|---|---|---|---|\n",
       "| Ind1     | 5.654333 | 1        | 1        | G1       | \n",
       "| Ind1     | 5.153864 | 1        | 1        | G1       | \n",
       "| Ind1     | 5.536809 | 1        | 0        | G1       | \n",
       "| Ind1     | 6.342920 | 1        | 1        | G1       | \n",
       "| Ind1     | 7.395464 | 1        | 0        | G1       | \n",
       "| Ind2     | 6.028979 | 0        | 0        | G1       | \n",
       "| Ind2     | 6.014417 | 0        | 0        | G1       | \n",
       "| Ind2     | 3.876124 | 0        | 0        | G1       | \n",
       "| Ind2     | 3.594028 | 0        | 0        | G1       | \n",
       "| Ind2     | 4.198419 | 0        | 0        | G1       | \n",
       "| Ind3     | 4.381486 | 1        | 0        | G1       | \n",
       "| Ind3     | 5.047026 | 1        | 0        | G1       | \n",
       "| Ind3     | 5.431503 | 1        | 0        | G1       | \n",
       "| Ind3     | 5.567953 | 1        | 0        | G1       | \n",
       "| Ind3     | 4.381308 | 1        | 0        | G1       | \n",
       "| Ind4     | 5.917587 | 1        | 1        | G1       | \n",
       "| Ind4     | 6.213064 | 1        | 0        | G1       | \n",
       "| Ind4     | 4.232553 | 1        | 0        | G1       | \n",
       "| Ind4     | 5.829269 | 1        | 1        | G1       | \n",
       "| Ind4     | 4.633209 | 1        | 1        | G1       | \n",
       "\n",
       "\n"
      ],
      "text/plain": [
       "   ID   Exp      Gender Batch Group\n",
       "1  Ind1 5.654333 1      1     G1   \n",
       "2  Ind1 5.153864 1      1     G1   \n",
       "3  Ind1 5.536809 1      0     G1   \n",
       "4  Ind1 6.342920 1      1     G1   \n",
       "5  Ind1 7.395464 1      0     G1   \n",
       "6  Ind2 6.028979 0      0     G1   \n",
       "7  Ind2 6.014417 0      0     G1   \n",
       "8  Ind2 3.876124 0      0     G1   \n",
       "9  Ind2 3.594028 0      0     G1   \n",
       "10 Ind2 4.198419 0      0     G1   \n",
       "11 Ind3 4.381486 1      0     G1   \n",
       "12 Ind3 5.047026 1      0     G1   \n",
       "13 Ind3 5.431503 1      0     G1   \n",
       "14 Ind3 5.567953 1      0     G1   \n",
       "15 Ind3 4.381308 1      0     G1   \n",
       "16 Ind4 5.917587 1      1     G1   \n",
       "17 Ind4 6.213064 1      0     G1   \n",
       "18 Ind4 4.232553 1      0     G1   \n",
       "19 Ind4 5.829269 1      1     G1   \n",
       "20 Ind4 4.633209 1      1     G1   "
      ]
     },
     "metadata": {},
     "output_type": "display_data"
    }
   ],
   "source": [
    "head(df,n=20)"
   ]
  },
  {
   "cell_type": "code",
   "execution_count": 26,
   "id": "f242f45c-9fa5-4a2e-bda5-038bfd1d9da0",
   "metadata": {},
   "outputs": [
    {
     "data": {},
     "metadata": {},
     "output_type": "display_data"
    },
    {
     "data": {
      "image/png": "[encoded data removed]",
      "text/plain": [
       "plot without title"
      ]
     },
     "metadata": {},
     "output_type": "display_data",
     "source": "R display func"
    }
   ],
   "source": [
    "#visualize\n",
    "options(repr.plot.width=4, repr.plot.height=4)\n",
    "df %>% ggplot(aes(x=Group,y=Exp,fill=Group)) +\n",
    "    geom_boxplot() +\n",
    "    theme_bw()"
   ]
  },
  {
   "cell_type": "markdown",
   "id": "598e4fdf-b903-4655-bab7-b5e08361d296",
   "metadata": {},
   "source": [
    "## LM without covariates"
   ]
  },
  {
   "cell_type": "code",
   "execution_count": 35,
   "id": "cb169378-adb2-4574-845c-1f3364473b3c",
   "metadata": {},
   "outputs": [
    {
     "data": {
      "text/html": [
       "<table>\n",
       "<thead><tr><th></th><th scope=col>Estimate</th><th scope=col>Std. Error</th><th scope=col>t value</th><th scope=col>Pr(&gt;|t|)</th></tr></thead>\n",
       "<tbody>\n",
       "\t<tr><th scope=row>(Intercept)</th><td>5.1263974   </td><td>0.1319196   </td><td>38.860013   </td><td>2.395088e-61</td></tr>\n",
       "\t<tr><th scope=row>GroupG2</th><td>0.7001584   </td><td>0.1865625   </td><td> 3.752943   </td><td>2.962688e-04</td></tr>\n",
       "</tbody>\n",
       "</table>\n"
      ],
      "text/latex": [
       "\\begin{tabular}{r|llll}\n",
       "  & Estimate & Std. Error & t value & Pr(>\\textbar{}t\\textbar{})\\\\\n",
       "\\hline\n",
       "\t(Intercept) & 5.1263974    & 0.1319196    & 38.860013    & 2.395088e-61\\\\\n",
       "\tGroupG2 & 0.7001584    & 0.1865625    &  3.752943    & 2.962688e-04\\\\\n",
       "\\end{tabular}\n"
      ],
      "text/markdown": [
       "\n",
       "| <!--/--> | Estimate | Std. Error | t value | Pr(>|t|) | \n",
       "|---|---|\n",
       "| (Intercept) | 5.1263974    | 0.1319196    | 38.860013    | 2.395088e-61 | \n",
       "| GroupG2 | 0.7001584    | 0.1865625    |  3.752943    | 2.962688e-04 | \n",
       "\n",
       "\n"
      ],
      "text/plain": [
       "            Estimate  Std. Error t value   Pr(>|t|)    \n",
       "(Intercept) 5.1263974 0.1319196  38.860013 2.395088e-61\n",
       "GroupG2     0.7001584 0.1865625   3.752943 2.962688e-04"
      ]
     },
     "metadata": {},
     "output_type": "display_data"
    }
   ],
   "source": [
    "mod1 <- lm(Exp ~ Group,data=df)\n",
    "summary(mod1)$coefficients\n",
    "#off course, the Group term is significant"
   ]
  },
  {
   "cell_type": "markdown",
   "id": "f69e570a-d9bd-45c0-9482-c73f54970539",
   "metadata": {},
   "source": [
    "## LM with covariates"
   ]
  },
  {
   "cell_type": "code",
   "execution_count": 36,
   "id": "6c88a265-309e-4c09-a8f8-54f2f33a91e4",
   "metadata": {},
   "outputs": [
    {
     "data": {
      "text/html": [
       "<table>\n",
       "<thead><tr><th></th><th scope=col>Estimate</th><th scope=col>Std. Error</th><th scope=col>t value</th><th scope=col>Pr(&gt;|t|)</th></tr></thead>\n",
       "<tbody>\n",
       "\t<tr><th scope=row>(Intercept)</th><td> 5.032124206</td><td>0.1937939   </td><td>25.96636804 </td><td>3.377426e-45</td></tr>\n",
       "\t<tr><th scope=row>GroupG2</th><td> 0.658999228</td><td>0.1911280   </td><td> 3.44794647 </td><td>8.402223e-04</td></tr>\n",
       "\t<tr><th scope=row>Gender</th><td>-0.004813373</td><td>0.1972081   </td><td>-0.02440758 </td><td>9.805782e-01</td></tr>\n",
       "\t<tr><th scope=row>Batch</th><td> 0.231336156</td><td>0.1902339   </td><td> 1.21606154 </td><td>2.269432e-01</td></tr>\n",
       "</tbody>\n",
       "</table>\n"
      ],
      "text/latex": [
       "\\begin{tabular}{r|llll}\n",
       "  & Estimate & Std. Error & t value & Pr(>\\textbar{}t\\textbar{})\\\\\n",
       "\\hline\n",
       "\t(Intercept) &  5.032124206 & 0.1937939    & 25.96636804  & 3.377426e-45\\\\\n",
       "\tGroupG2 &  0.658999228 & 0.1911280    &  3.44794647  & 8.402223e-04\\\\\n",
       "\tGender & -0.004813373 & 0.1972081    & -0.02440758  & 9.805782e-01\\\\\n",
       "\tBatch &  0.231336156 & 0.1902339    &  1.21606154  & 2.269432e-01\\\\\n",
       "\\end{tabular}\n"
      ],
      "text/markdown": [
       "\n",
       "| <!--/--> | Estimate | Std. Error | t value | Pr(>|t|) | \n",
       "|---|---|---|---|\n",
       "| (Intercept) |  5.032124206 | 0.1937939    | 25.96636804  | 3.377426e-45 | \n",
       "| GroupG2 |  0.658999228 | 0.1911280    |  3.44794647  | 8.402223e-04 | \n",
       "| Gender | -0.004813373 | 0.1972081    | -0.02440758  | 9.805782e-01 | \n",
       "| Batch |  0.231336156 | 0.1902339    |  1.21606154  | 2.269432e-01 | \n",
       "\n",
       "\n"
      ],
      "text/plain": [
       "            Estimate     Std. Error t value     Pr(>|t|)    \n",
       "(Intercept)  5.032124206 0.1937939  25.96636804 3.377426e-45\n",
       "GroupG2      0.658999228 0.1911280   3.44794647 8.402223e-04\n",
       "Gender      -0.004813373 0.1972081  -0.02440758 9.805782e-01\n",
       "Batch        0.231336156 0.1902339   1.21606154 2.269432e-01"
      ]
     },
     "metadata": {},
     "output_type": "display_data"
    }
   ],
   "source": [
    "mod1 <- lm(Exp ~ Group + Gender + Batch,data=df)\n",
    "summary(mod1)$coefficients\n",
    "#off course, the Group term is significant"
   ]
  },
  {
   "cell_type": "markdown",
   "id": "242bc46f-e0b2-4f10-8d27-a7be2b64f0b3",
   "metadata": {},
   "source": [
    "## LM with a fixed effect individual term"
   ]
  },
  {
   "cell_type": "code",
   "execution_count": 38,
   "id": "258b6524-a59f-4818-878f-23bd44e0fa59",
   "metadata": {},
   "outputs": [
    {
     "data": {
      "text/html": [
       "<table>\n",
       "<thead><tr><th></th><th scope=col>Estimate</th><th scope=col>Std. Error</th><th scope=col>t value</th><th scope=col>Pr(&gt;|t|)</th></tr></thead>\n",
       "<tbody>\n",
       "\t<tr><th scope=row>(Intercept)</th><td> 6.01667826 </td><td>0.4276300   </td><td>14.06982197 </td><td>2.426271e-23</td></tr>\n",
       "\t<tr><th scope=row>GroupG2</th><td>-0.09520070 </td><td>0.6047602   </td><td>-0.15741892 </td><td>8.753113e-01</td></tr>\n",
       "\t<tr><th scope=row>IDInd2</th><td>-1.27428483 </td><td>0.6047602   </td><td>-2.10709118 </td><td>3.824238e-02</td></tr>\n",
       "\t<tr><th scope=row>IDInd3</th><td>-1.05482315 </td><td>0.6047602   </td><td>-1.74420076 </td><td>8.496500e-02</td></tr>\n",
       "\t<tr><th scope=row>IDInd4</th><td>-0.65154192 </td><td>0.6047602   </td><td>-1.07735586 </td><td>2.845593e-01</td></tr>\n",
       "\t<tr><th scope=row>IDInd5</th><td>-0.92155569 </td><td>0.6047602   </td><td>-1.52383661 </td><td>1.314930e-01</td></tr>\n",
       "\t<tr><th scope=row>IDInd6</th><td>-0.90807498 </td><td>0.6047602   </td><td>-1.50154560 </td><td>1.371514e-01</td></tr>\n",
       "\t<tr><th scope=row>IDInd7</th><td>-0.84474983 </td><td>0.6047602   </td><td>-1.39683442 </td><td>1.663263e-01</td></tr>\n",
       "\t<tr><th scope=row>IDInd8</th><td>-0.60549464 </td><td>0.6047602   </td><td>-1.00121447 </td><td>3.197419e-01</td></tr>\n",
       "\t<tr><th scope=row>IDInd9</th><td>-1.03950011 </td><td>0.6047602   </td><td>-1.71886337 </td><td>8.950681e-02</td></tr>\n",
       "\t<tr><th scope=row>IDInd10</th><td>-1.60278381 </td><td>0.6047602   </td><td>-2.65028003 </td><td>9.690524e-03</td></tr>\n",
       "\t<tr><th scope=row>IDInd11</th><td> 0.43064902 </td><td>0.6047602   </td><td> 0.71209883 </td><td>4.784752e-01</td></tr>\n",
       "\t<tr><th scope=row>IDInd12</th><td>-0.13772994 </td><td>0.6047602   </td><td>-0.22774306 </td><td>8.204270e-01</td></tr>\n",
       "\t<tr><th scope=row>IDInd13</th><td>-0.56045205 </td><td>0.6047602   </td><td>-0.92673438 </td><td>3.568519e-01</td></tr>\n",
       "\t<tr><th scope=row>IDInd14</th><td> 0.01190705 </td><td>0.6047602   </td><td> 0.01968888 </td><td>9.843406e-01</td></tr>\n",
       "\t<tr><th scope=row>IDInd15</th><td>-0.39353533 </td><td>0.6047602   </td><td>-0.65072957 </td><td>5.170857e-01</td></tr>\n",
       "\t<tr><th scope=row>IDInd16</th><td> 0.21679118 </td><td>0.6047602   </td><td> 0.35847463 </td><td>7.209324e-01</td></tr>\n",
       "\t<tr><th scope=row>IDInd17</th><td> 0.02791283 </td><td>0.6047602   </td><td> 0.04615521 </td><td>9.633016e-01</td></tr>\n",
       "\t<tr><th scope=row>IDInd18</th><td>-0.21238681 </td><td>0.6047602   </td><td>-0.35119180 </td><td>7.263677e-01</td></tr>\n",
       "\t<tr><th scope=row>IDInd19</th><td>-0.33237398 </td><td>0.6047602   </td><td>-0.54959635 </td><td>5.841273e-01</td></tr>\n",
       "</tbody>\n",
       "</table>\n"
      ],
      "text/latex": [
       "\\begin{tabular}{r|llll}\n",
       "  & Estimate & Std. Error & t value & Pr(>\\textbar{}t\\textbar{})\\\\\n",
       "\\hline\n",
       "\t(Intercept) &  6.01667826  & 0.4276300    & 14.06982197  & 2.426271e-23\\\\\n",
       "\tGroupG2 & -0.09520070  & 0.6047602    & -0.15741892  & 8.753113e-01\\\\\n",
       "\tIDInd2 & -1.27428483  & 0.6047602    & -2.10709118  & 3.824238e-02\\\\\n",
       "\tIDInd3 & -1.05482315  & 0.6047602    & -1.74420076  & 8.496500e-02\\\\\n",
       "\tIDInd4 & -0.65154192  & 0.6047602    & -1.07735586  & 2.845593e-01\\\\\n",
       "\tIDInd5 & -0.92155569  & 0.6047602    & -1.52383661  & 1.314930e-01\\\\\n",
       "\tIDInd6 & -0.90807498  & 0.6047602    & -1.50154560  & 1.371514e-01\\\\\n",
       "\tIDInd7 & -0.84474983  & 0.6047602    & -1.39683442  & 1.663263e-01\\\\\n",
       "\tIDInd8 & -0.60549464  & 0.6047602    & -1.00121447  & 3.197419e-01\\\\\n",
       "\tIDInd9 & -1.03950011  & 0.6047602    & -1.71886337  & 8.950681e-02\\\\\n",
       "\tIDInd10 & -1.60278381  & 0.6047602    & -2.65028003  & 9.690524e-03\\\\\n",
       "\tIDInd11 &  0.43064902  & 0.6047602    &  0.71209883  & 4.784752e-01\\\\\n",
       "\tIDInd12 & -0.13772994  & 0.6047602    & -0.22774306  & 8.204270e-01\\\\\n",
       "\tIDInd13 & -0.56045205  & 0.6047602    & -0.92673438  & 3.568519e-01\\\\\n",
       "\tIDInd14 &  0.01190705  & 0.6047602    &  0.01968888  & 9.843406e-01\\\\\n",
       "\tIDInd15 & -0.39353533  & 0.6047602    & -0.65072957  & 5.170857e-01\\\\\n",
       "\tIDInd16 &  0.21679118  & 0.6047602    &  0.35847463  & 7.209324e-01\\\\\n",
       "\tIDInd17 &  0.02791283  & 0.6047602    &  0.04615521  & 9.633016e-01\\\\\n",
       "\tIDInd18 & -0.21238681  & 0.6047602    & -0.35119180  & 7.263677e-01\\\\\n",
       "\tIDInd19 & -0.33237398  & 0.6047602    & -0.54959635  & 5.841273e-01\\\\\n",
       "\\end{tabular}\n"
      ],
      "text/markdown": [
       "\n",
       "| <!--/--> | Estimate | Std. Error | t value | Pr(>|t|) | \n",
       "|---|---|---|---|---|---|---|---|---|---|---|---|---|---|---|---|---|---|---|---|\n",
       "| (Intercept) |  6.01667826  | 0.4276300    | 14.06982197  | 2.426271e-23 | \n",
       "| GroupG2 | -0.09520070  | 0.6047602    | -0.15741892  | 8.753113e-01 | \n",
       "| IDInd2 | -1.27428483  | 0.6047602    | -2.10709118  | 3.824238e-02 | \n",
       "| IDInd3 | -1.05482315  | 0.6047602    | -1.74420076  | 8.496500e-02 | \n",
       "| IDInd4 | -0.65154192  | 0.6047602    | -1.07735586  | 2.845593e-01 | \n",
       "| IDInd5 | -0.92155569  | 0.6047602    | -1.52383661  | 1.314930e-01 | \n",
       "| IDInd6 | -0.90807498  | 0.6047602    | -1.50154560  | 1.371514e-01 | \n",
       "| IDInd7 | -0.84474983  | 0.6047602    | -1.39683442  | 1.663263e-01 | \n",
       "| IDInd8 | -0.60549464  | 0.6047602    | -1.00121447  | 3.197419e-01 | \n",
       "| IDInd9 | -1.03950011  | 0.6047602    | -1.71886337  | 8.950681e-02 | \n",
       "| IDInd10 | -1.60278381  | 0.6047602    | -2.65028003  | 9.690524e-03 | \n",
       "| IDInd11 |  0.43064902  | 0.6047602    |  0.71209883  | 4.784752e-01 | \n",
       "| IDInd12 | -0.13772994  | 0.6047602    | -0.22774306  | 8.204270e-01 | \n",
       "| IDInd13 | -0.56045205  | 0.6047602    | -0.92673438  | 3.568519e-01 | \n",
       "| IDInd14 |  0.01190705  | 0.6047602    |  0.01968888  | 9.843406e-01 | \n",
       "| IDInd15 | -0.39353533  | 0.6047602    | -0.65072957  | 5.170857e-01 | \n",
       "| IDInd16 |  0.21679118  | 0.6047602    |  0.35847463  | 7.209324e-01 | \n",
       "| IDInd17 |  0.02791283  | 0.6047602    |  0.04615521  | 9.633016e-01 | \n",
       "| IDInd18 | -0.21238681  | 0.6047602    | -0.35119180  | 7.263677e-01 | \n",
       "| IDInd19 | -0.33237398  | 0.6047602    | -0.54959635  | 5.841273e-01 | \n",
       "\n",
       "\n"
      ],
      "text/plain": [
       "            Estimate    Std. Error t value     Pr(>|t|)    \n",
       "(Intercept)  6.01667826 0.4276300  14.06982197 2.426271e-23\n",
       "GroupG2     -0.09520070 0.6047602  -0.15741892 8.753113e-01\n",
       "IDInd2      -1.27428483 0.6047602  -2.10709118 3.824238e-02\n",
       "IDInd3      -1.05482315 0.6047602  -1.74420076 8.496500e-02\n",
       "IDInd4      -0.65154192 0.6047602  -1.07735586 2.845593e-01\n",
       "IDInd5      -0.92155569 0.6047602  -1.52383661 1.314930e-01\n",
       "IDInd6      -0.90807498 0.6047602  -1.50154560 1.371514e-01\n",
       "IDInd7      -0.84474983 0.6047602  -1.39683442 1.663263e-01\n",
       "IDInd8      -0.60549464 0.6047602  -1.00121447 3.197419e-01\n",
       "IDInd9      -1.03950011 0.6047602  -1.71886337 8.950681e-02\n",
       "IDInd10     -1.60278381 0.6047602  -2.65028003 9.690524e-03\n",
       "IDInd11      0.43064902 0.6047602   0.71209883 4.784752e-01\n",
       "IDInd12     -0.13772994 0.6047602  -0.22774306 8.204270e-01\n",
       "IDInd13     -0.56045205 0.6047602  -0.92673438 3.568519e-01\n",
       "IDInd14      0.01190705 0.6047602   0.01968888 9.843406e-01\n",
       "IDInd15     -0.39353533 0.6047602  -0.65072957 5.170857e-01\n",
       "IDInd16      0.21679118 0.6047602   0.35847463 7.209324e-01\n",
       "IDInd17      0.02791283 0.6047602   0.04615521 9.633016e-01\n",
       "IDInd18     -0.21238681 0.6047602  -0.35119180 7.263677e-01\n",
       "IDInd19     -0.33237398 0.6047602  -0.54959635 5.841273e-01"
      ]
     },
     "metadata": {},
     "output_type": "display_data"
    }
   ],
   "source": [
    "mod1 <- lm(Exp ~ Group  + ID,data=df)\n",
    "summary(mod1)$coefficients\n",
    "#the significance of Group term was canceled completely."
   ]
  },
  {
   "cell_type": "markdown",
   "id": "9d23723a-9b42-49af-9523-47f0b52a6557",
   "metadata": {},
   "source": [
    "## LMM with a random effect individual term"
   ]
  },
  {
   "cell_type": "code",
   "execution_count": 45,
   "id": "e1e6bb3d-5ac8-4b74-ba32-5d4d811b2ed7",
   "metadata": {},
   "outputs": [
    {
     "data": {
      "text/html": [
       "<table>\n",
       "<thead><tr><th></th><th scope=col>Estimate</th><th scope=col>Std. Error</th><th scope=col>df</th><th scope=col>t value</th><th scope=col>Pr(&gt;|t|)</th></tr></thead>\n",
       "<tbody>\n",
       "\t<tr><th scope=row>(Intercept)</th><td>5.1263974   </td><td>0.1319196   </td><td>98          </td><td>38.860013   </td><td>2.395088e-61</td></tr>\n",
       "\t<tr><th scope=row>GroupG2</th><td>0.7001584   </td><td>0.1865625   </td><td>98          </td><td> 3.752943   </td><td>2.962688e-04</td></tr>\n",
       "</tbody>\n",
       "</table>\n"
      ],
      "text/latex": [
       "\\begin{tabular}{r|lllll}\n",
       "  & Estimate & Std. Error & df & t value & Pr(>\\textbar{}t\\textbar{})\\\\\n",
       "\\hline\n",
       "\t(Intercept) & 5.1263974    & 0.1319196    & 98           & 38.860013    & 2.395088e-61\\\\\n",
       "\tGroupG2 & 0.7001584    & 0.1865625    & 98           &  3.752943    & 2.962688e-04\\\\\n",
       "\\end{tabular}\n"
      ],
      "text/markdown": [
       "\n",
       "| <!--/--> | Estimate | Std. Error | df | t value | Pr(>|t|) | \n",
       "|---|---|\n",
       "| (Intercept) | 5.1263974    | 0.1319196    | 98           | 38.860013    | 2.395088e-61 | \n",
       "| GroupG2 | 0.7001584    | 0.1865625    | 98           |  3.752943    | 2.962688e-04 | \n",
       "\n",
       "\n"
      ],
      "text/plain": [
       "            Estimate  Std. Error df t value   Pr(>|t|)    \n",
       "(Intercept) 5.1263974 0.1319196  98 38.860013 2.395088e-61\n",
       "GroupG2     0.7001584 0.1865625  98  3.752943 2.962688e-04"
      ]
     },
     "metadata": {},
     "output_type": "display_data"
    }
   ],
   "source": [
    "mod1 <- lmer(Exp ~ Group  + (1|ID),data=df)\n",
    "summary(mod1)$coefficients\n",
    "#the significance of Group term was mainteined."
   ]
  },
  {
   "cell_type": "code",
   "execution_count": null,
   "id": "55de75b0-db77-4e82-9ac7-655099c21d51",
   "metadata": {},
   "outputs": [],
   "source": []
  },
  {
   "cell_type": "code",
   "execution_count": null,
   "id": "84ee9376-292c-4413-952d-5ab62da376b1",
   "metadata": {},
   "outputs": [],
   "source": []
  }
 ],
 "metadata": {
  "kernelspec": {
   "display_name": "R 3.4.3",
   "language": "R",
   "name": "ir343"
  },
  "language_info": {
   "codemirror_mode": "r",
   "file_extension": ".r",
   "mimetype": "text/x-r-source",
   "name": "R",
   "pygments_lexer": "r",
   "version": "3.4.3"
  }
 },
 "nbformat": 4,
 "nbformat_minor": 5
}
